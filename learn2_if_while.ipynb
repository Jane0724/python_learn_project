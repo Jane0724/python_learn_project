{
 "cells": [
  {
   "cell_type": "markdown",
   "metadata": {},
   "source": [
    "选择语句--if语句\n",
    "    if语句的三种形式，单分支结构、双分支结构、多分支结构\n"
   ]
  },
  {
   "cell_type": "code",
   "execution_count": 1,
   "metadata": {},
   "outputs": [
    {
     "name": "stdout",
     "output_type": "stream",
     "text": [
      "sales:360.00\n",
      "the area for the circle of radius 3.5 is 38.48\n"
     ]
    }
   ],
   "source": [
    "#单分支的if语句\n",
    "import math as Math\n",
    "sales=eval(input(\"please input sales:\"))#eval()函数用来执行一个字符串表达式，\n",
    "#并返回表\n",
    "# 达式的值,eval()函数可以将字符串转换为数字\n",
    "if sales>200:\n",
    "    sales*=0.9\n",
    "print(\"sales:%.2f\" % sales)\n",
    "\n",
    "radius=float(input(\"please input radius:\"))\n",
    "if radius>=0:#if后不能出现=号，否则会报错\n",
    "    area=radius*radius*Math.pi\n",
    "    print(\"the area for the circle of radius\", radius, \"is %.2f\" % area)\n",
    "else:\n",
    "    print(\"the radius must be positive\")\n"
   ]
  },
  {
   "cell_type": "code",
   "execution_count": 2,
   "metadata": {},
   "outputs": [
    {
     "name": "stdout",
     "output_type": "stream",
     "text": [
      "BMI is  21.22\n",
      "NOMAL\n"
     ]
    }
   ],
   "source": [
    "#多分支的if语句\n",
    "#BMI指数计算\n",
    "import math as math\n",
    "weight=eval(input(\"please input yaour weight:(kg)\"))\n",
    "hight=eval(input(\"plaese input your hight:(m)\"))\n",
    "BMI=weight/(hight*hight)\n",
    "print(\"BMI is \",format(BMI,\".2f\"))\n",
    "if BMI<18:\n",
    "    print(\"Underweight\")\n",
    "elif BMI<25:\n",
    "    print(\"NOMAL\")\n",
    "elif BMI<27:\n",
    "    print(\"Overweight\")\n",
    "else:\n",
    "    print(\"Obese\")\n"
   ]
  },
  {
   "cell_type": "code",
   "execution_count": 3,
   "metadata": {},
   "outputs": [
    {
     "name": "stdout",
     "output_type": "stream",
     "text": [
      "B\n"
     ]
    }
   ],
   "source": [
    "#if语句练习\n",
    "x=1\n",
    "y=2\n",
    "z=3\n",
    "if x>y:\n",
    "    if x>z:\n",
    "        print(\"A\")\n",
    "else:\n",
    "    print(\"B\")"
   ]
  },
  {
   "cell_type": "code",
   "execution_count": 4,
   "metadata": {},
   "outputs": [
    {
     "name": "stdout",
     "output_type": "stream",
     "text": [
      "C\n"
     ]
    }
   ],
   "source": [
    "x=1\n",
    "y=2\n",
    "z=3\n",
    "if x>y:\n",
    "    if x>z:\n",
    "        print(\"A\")\n",
    "    else:\n",
    "        print(\"B\")\n",
    "else:\n",
    "    print(\"C\")"
   ]
  },
  {
   "cell_type": "code",
   "execution_count": 5,
   "metadata": {},
   "outputs": [
    {
     "name": "stdout",
     "output_type": "stream",
     "text": [
      "7\n"
     ]
    }
   ],
   "source": [
    "#单行练习\n",
    "#比大小\n",
    "x,y=3,7\n",
    "Bigger=y if x<y else x#三元运算符\n",
    "print(Bigger)\n"
   ]
  },
  {
   "cell_type": "code",
   "execution_count": 6,
   "metadata": {},
   "outputs": [
    {
     "name": "stdout",
     "output_type": "stream",
     "text": [
      "sum is: 94\n"
     ]
    }
   ],
   "source": [
    "#循环结构 while语句\n",
    "#通过while对输入的偶数进行求和(输入-1结束)\n",
    "num=eval(input(\"input your number:\"))\n",
    "sum=0\n",
    "while num!=-1:#只要 num 不等于 -1，继续执行循环体内的代码\n",
    "    if num %2==0:#判断是否为偶数\n",
    "        sum +=num\n",
    "    num=eval(input(\"input your number:\"))\n",
    "print(\"sum is:\",sum)\n"
   ]
  },
  {
   "cell_type": "code",
   "execution_count": 7,
   "metadata": {},
   "outputs": [
    {
     "name": "stdout",
     "output_type": "stream",
     "text": [
      "2\n",
      "4\n",
      "6\n",
      "8\n",
      "10\n"
     ]
    }
   ],
   "source": [
    "i=1\n",
    "while i<=10:#循环十次\n",
    "    if i%2==0:\n",
    "        print(i)\n",
    "    i+=1\n",
    "#输出为2 4 6 8 10"
   ]
  },
  {
   "cell_type": "code",
   "execution_count": 8,
   "metadata": {},
   "outputs": [],
   "source": [
    "i=1\n",
    "#while i<10:\n",
    "#    if i%2==0:\n",
    "#        print(i)\n",
    "#        i+=1\n",
    "#死循环，因为i没有增加，所以一直为1，所以一直为偶数，所以一直输出1"
   ]
  },
  {
   "cell_type": "code",
   "execution_count": 9,
   "metadata": {},
   "outputs": [
    {
     "name": "stdout",
     "output_type": "stream",
     "text": [
      "0 小于7\n",
      "1 小于7\n",
      "2 小于7\n",
      "3 小于7\n",
      "4 小于7\n",
      "5 小于7\n",
      "6 小于7\n",
      "7 大于等于7\n"
     ]
    }
   ],
   "source": [
    "#while中的else语句\n",
    "#以正常方式（不是执行break，return语句时）结束循环时，执行else语句，否则不执行\n",
    "count=0\n",
    "while count<7:\n",
    "    print(count,\"小于7\")\n",
    "    count+=1\n",
    "else:\n",
    "    print(count,\"大于等于7\")"
   ]
  },
  {
   "cell_type": "code",
   "execution_count": 10,
   "metadata": {},
   "outputs": [
    {
     "name": "stdout",
     "output_type": "stream",
     "text": [
      "0\n",
      "1\n",
      "2\n",
      "3\n",
      "4\n",
      "5\n",
      "6\n",
      "7\n",
      "8\n",
      "9\n",
      "5050\n"
     ]
    }
   ],
   "source": [
    "#循环结构 for语句\n",
    "for i in range(10):#range(10)表示0-9\n",
    "    print(i)\n",
    "#在循环迭代完成之后（正常方式），执行else语句；\n",
    "#如果循环体内执行了break，return语句，则不执行else语句，或者有异常出现eles也不执行。\n",
    "sum=0\n",
    "for i in range (1,101):#1-100,左闭右开\n",
    "    sum+=i\n",
    "print(sum)"
   ]
  },
  {
   "cell_type": "code",
   "execution_count": 11,
   "metadata": {},
   "outputs": [
    {
     "name": "stdout",
     "output_type": "stream",
     "text": [
      "dalete over\n",
      "[1, 3, 5, 7, 9, 11, 13, 15, 17, 19]\n"
     ]
    }
   ],
   "source": [
    "#编写程序删除列表对象中所有偶数\n",
    "x=list(range(20))\n",
    "for i in x:\n",
    "    x.remove(i)#remove()方法用于移除列表中某个值的第一个匹配项\n",
    "else:\n",
    "    print(\"dalete over\")\n",
    "print(x)\n"
   ]
  },
  {
   "cell_type": "code",
   "execution_count": 12,
   "metadata": {},
   "outputs": [
    {
     "name": "stdout",
     "output_type": "stream",
     "text": [
      "The number is 14\n",
      "The sum is 105\n"
     ]
    }
   ],
   "source": [
    "#break和continue语句\n",
    "#break语句用于终止循环，跳出循环体\n",
    "#continue语句用于跳过本次循环，继续执行下一次循环\n",
    "sum=0\n",
    "number=0\n",
    "while number<20:\n",
    "    number+=1\n",
    "    sum+=number\n",
    "    if sum>=100:\n",
    "        break\n",
    "print(\"The number is\",number)\n",
    "print(\"The sum is\",sum)\n"
   ]
  },
  {
   "cell_type": "code",
   "execution_count": 13,
   "metadata": {},
   "outputs": [
    {
     "name": "stdout",
     "output_type": "stream",
     "text": [
      "1  1\n",
      "3  4\n",
      "4  8\n",
      "6  14\n",
      "the sum is 14\n"
     ]
    }
   ],
   "source": [
    "#continue语句,实现跳过特定数字并输出其他数字的和\n",
    "sum=0\n",
    "number=0\n",
    "while number<6:#number小于6时，执行循环体内的代码\n",
    "    number+=1\n",
    "    if number == 2 or number == 5:#如果number等于2或5，跳过本次循环，继续执行下一次循环\n",
    "        continue#跳过本次循环，继续执行下一次循环\n",
    "    sum+=number\n",
    "    print(number,\"\",sum)\n",
    "print(\"the sum is\",sum)"
   ]
  }
 ],
 "metadata": {
  "kernelspec": {
   "display_name": "Python 3",
   "language": "python",
   "name": "python3"
  },
  "language_info": {
   "codemirror_mode": {
    "name": "ipython",
    "version": 3
   },
   "file_extension": ".py",
   "mimetype": "text/x-python",
   "name": "python",
   "nbconvert_exporter": "python",
   "pygments_lexer": "ipython3",
   "version": "3.12.3"
  }
 },
 "nbformat": 4,
 "nbformat_minor": 2
}
