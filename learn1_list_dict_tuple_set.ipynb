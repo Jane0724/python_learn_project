{
 "cells": [
  {
   "cell_type": "markdown",
   "metadata": {},
   "source": [
    "根据三小时速成课完成python基础学习"
   ]
  },
  {
   "cell_type": "code",
   "execution_count": 683,
   "metadata": {},
   "outputs": [
    {
     "name": "stdout",
     "output_type": "stream",
     "text": [
      "[2, 3, 4, 5, 6]\n",
      "[3, 5]\n",
      "[]\n",
      "[5, 3]\n"
     ]
    }
   ],
   "source": [
    "#列表，步长list[start:end:step]，start省略时步长默认为1\n",
    "a=[1,2,3,4,5,6]\n",
    "list1=a[1:6]\n",
    "list2=a[2:6:2]\n",
    "list3=a[6:2:2]#从左往右取值\n",
    "list4=a[-2:-6:-2]#从右往左取值\n",
    "print(list1)\n",
    "print(list2)\n",
    "print(list3)\n",
    "print(list4)\n"
   ]
  },
  {
   "cell_type": "code",
   "execution_count": 684,
   "metadata": {},
   "outputs": [
    {
     "name": "stdout",
     "output_type": "stream",
     "text": [
      "[1, 2, 3, 4]\n",
      "(1, 2, 3)\n",
      "4\n",
      "4\n",
      "1\n",
      "[1, 2, 3]\n",
      "[1, 2, 3, 4, 2]\n",
      "[1, 2, 3, 2]\n",
      "5\n"
     ]
    }
   ],
   "source": [
    "#列表的内置函数和其他方法\n",
    "#len()函数，max()函数，min()函数，list(tuple）将元组转换为列表\n",
    "list1=[1,2,3,4]\n",
    "my_tuple1=(1,2,3)\n",
    "len(list1)\n",
    "max(list1)\n",
    "min(list1)\n",
    "list(my_tuple1)\n",
    "print(list1)\n",
    "print(my_tuple1)\n",
    "print(len(list1))\n",
    "print(max(list1))\n",
    "print(min(list1))\n",
    "print(list(my_tuple1))\n",
    "list1.append(2)\n",
    "print(list1)\n",
    "my_list = [1, 2, 3]\n",
    "my_list.append(2)\n",
    "print(my_list)\n",
    "print(len(list1))\n",
    "\n",
    "\n"
   ]
  },
  {
   "cell_type": "code",
   "execution_count": 685,
   "metadata": {},
   "outputs": [
    {
     "name": "stdout",
     "output_type": "stream",
     "text": [
      "3\n",
      "('runoob', 1997)\n",
      "tup3[1:3] ('runoob',)\n"
     ]
    },
    {
     "data": {
      "text/plain": [
       "tuple"
      ]
     },
     "execution_count": 685,
     "metadata": {},
     "output_type": "execute_result"
    }
   ],
   "source": [
    "#元组，与列表相似，单元组的元素不可修改\n",
    "#元组的创建\n",
    "tuple1=(1,2,3,4,5)\n",
    "tuple2=('google','runoob',1997,2000)\n",
    "tup3=(\"a\",2,\"b\",\"c\")\n",
    "tup4=()\n",
    "tup5=(50,)#只包含一个元素时，需要在元素后面添加逗号\n",
    "print(tuple1[2])\n",
    "print(tuple2[1:3])\n",
    "print(\"tup3[1:3]\",tuple2[1:2])\n",
    "#元组中的元素不可修改\n",
    "#元组中的元素值也不可修改，但是可以对元组进行连接组合\n",
    "del tup3\n",
    "#元组的内置函数\n",
    "#len()函数，max()函数，min()函数，tuple(list)将列表转换为元组\n",
    "#元组的封装与序列解封\n",
    "#元组的封装\n",
    "tup1 = 1, 2, 3, 4, 5#python自动封装\n",
    "type(tup1)\n",
    "#列表为可变序列，可以随意修改列表汇总中的元素值，增加和删除元素\n",
    "#元组为不可变序列，元组中的元素一旦定义，就不能修改，增加和删除元素\n",
    "#元组的访问和处理速度比列表快。如果所需定义的序列内容不会进行修改，那么建议使用元组。\n"
   ]
  },
  {
   "cell_type": "code",
   "execution_count": 3,
   "metadata": {},
   "outputs": [
    {
     "name": "stdout",
     "output_type": "stream",
     "text": [
      "hello,world\n",
      "hello python\n",
      "hello,python\n",
      "012 str[0:3]\n",
      "0123456789 str[:]\n",
      "78\n",
      "\n",
      "9876543210\n",
      "789\n",
      "0123456\n",
      "96 9876\n",
      "3579\n",
      "hello,world\n",
      "Hello,world\n",
      "hello,world\n",
      "\n",
      "Hello,world\n",
      "****hello,world*****\n",
      "hello,world\n",
      "HELLO,WORLD\n",
      "\n",
      "0\n",
      "3\n",
      "hello,world\n",
      " he llo,wo rld \n",
      " he llo,wo rld\n",
      "he llo,wo rld \n",
      "he llo,wo rld\n",
      "hello,world\n",
      "15\n"
     ]
    }
   ],
   "source": [
    "#字符串\n",
    "#字符串的创建\n",
    "#使用单引号，双引号或三引号创建字符串\n",
    "str1='hello,world'\n",
    "str2=\"hello python\"\n",
    "str3='''hello,python'''\n",
    "print(str1)\n",
    "print(str2)\n",
    "print(str3)\n",
    "#字符串的切片运算\n",
    "#字符串的切片运算与列表和元组的切片运算相似，通过索引值获取字符串中的字符，字符串的索引值从0开始\n",
    "str=\"0123456789\"\n",
    "print(str[0:3],\"str[0:3]\")\n",
    "print(str[:],\"str[:]\")\n",
    "print(str[-3:-1])#从右往左取值\n",
    "print(str[-3:-5])#从右往左取值,start值大于end时取不到值\n",
    "print(str[::-1])#从右往左取值\n",
    "print(str[-3:])\n",
    "print(str[:-3])\n",
    "print(str[:-5:-3],str[:-5:-1])#从右往左取值,str[start:end:step],逆序截取\n",
    "print(str[3::2])\n",
    "\n",
    "#字符串的更新\n",
    "#字符串的元素值不能修改，但是可以通过连接运算符+进行字符串的连接\n",
    "replace_str=\"hello,world\"\n",
    "print(replace_str)\n",
    "print(replace_str.replace('h','H'))\n",
    "print(replace_str)\n",
    "\n",
    "\n",
    "#python字符串中的反义字符\n",
    "#反斜杠\\是转义字符，意思是对其后的字符进行转义，将其转换为特殊字符\n",
    "#转义字符\\r回车,\\n换行,\\t横向制表位,\\b退格,\\f换页,\\'单引号,\\\"双引号,\\\\反斜杠符号\n",
    "#python字符串的内建函数和方法\n",
    "#常用的字符串内建函数\n",
    "str=\"hello,world\"\n",
    "capitalized_str=str.capitalize()#将字符串的第一个字符转换为大写\n",
    "print()  \n",
    "print(capitalized_str)\n",
    "print(str.center(20,'*'))#返回一个原字符串居中，且用指定字符填充至指定长度的新字符串\n",
    "print(str.lower())#将字符串中的大写字母转换为小写字母\n",
    "print(str.upper())#将字符串中的小写字母转换为大写字母\n",
    "str.swapcase()#将字符串中大写转换为小写，小写转换为大写\n",
    "print()\n",
    "find_str=str.find(\"h\", 0, len(str))#检测字符串中是否包含子字符串str，如果指定范围beg和end，则检查是否包含在指定范围内\n",
    "print(find_str)\n",
    "count_str=str.count(\"l\",0,len(str))#返回str在start和end之间出现的次数\n",
    "print(count_str)\n",
    "print(str)\n",
    "str5=\" he llo,wo rld \"\n",
    "rstrip_str=str5.rstrip()#删除字符串末尾的空格\n",
    "lstrip_str=str5.lstrip()#删除字符串开头的空格\n",
    "strip_str=str5.strip()#删除字符串两端的空格\n",
    "#删除所有空格\n",
    "noblank_str5=str5.replace(\" \",\"\")#将字符串中的空格替换为空,\" \"->\"\"\n",
    "#def replace(\n",
    "#           self: LiteralString, old: LiteralString, new: LiteralString, /, count: SupportsIndex = -1\n",
    "#       ) -> LiteralString: ...\n",
    "print(str5)\n",
    "print(rstrip_str)\n",
    "print(lstrip_str)\n",
    "print(strip_str)\n",
    "print(noblank_str5)\n",
    "print(len(str5))\n",
    "#空串和空白串\n",
    "#空串是指字符串中没有任何字符，空白串是指字符串中只包含空白字符\n",
    "\n",
    "\n"
   ]
  },
  {
   "cell_type": "code",
   "execution_count": 4,
   "metadata": {},
   "outputs": [
    {
     "name": "stdout",
     "output_type": "stream",
     "text": [
      "{'name': 'runoob', 'age': 7, 'class': 'first'}\n",
      "{'成语': '江山如画', 'len': 4}\n",
      "{'水果': 'apple', 'price': 12}\n",
      "runoob\n",
      "7\n",
      "{'name': 'runoob', 'age': 8, 'class': 'A'}\n",
      "{'age': 7, 'class': 'first'}\n",
      "{}\n",
      "name runoob\n",
      "age 7\n",
      "class first\n",
      "dict1['name']: 小菜鸟\n"
     ]
    },
    {
     "data": {
      "text/plain": [
       "'小菜鸟'"
      ]
     },
     "execution_count": 4,
     "metadata": {},
     "output_type": "execute_result"
    }
   ],
   "source": [
    "#字典\n",
    "#字典是无序的键值对集合，字典的元素是通过键来存取的，而不是通过索引值\n",
    "#python的字典是通过键值对的形式来存储数据的，字典的键是唯一的，值可以不唯一\n",
    "#字典是一种可变容器模型，可存储任意类型对象\n",
    "#字典的键必须是不可变的，如字符串，数字或元组\n",
    "#字典的创建\n",
    "dict1={'name':'runoob','age':7,'class':'first'}#d={key1:value1,key2:value2}\n",
    "print(dict1)\n",
    "my_dict={'成语':\"江山如画\",'len':4}\n",
    "dict3={'水果':'apple','price':12}\n",
    "print(my_dict)\n",
    "print(dict3)\n",
    "\n",
    "#字典的访问\n",
    "#通过键来访问字典中的元素，如果访问的键不存在，会报错\n",
    "dict1={'name':'runoob','age':7,'class':'first'}\n",
    "print(dict1['name'])\n",
    "print(dict1['age'])\n",
    "#字典的修改\n",
    "dict1['age']=8\n",
    "dict1['class']='A'\n",
    "print(dict1)\n",
    "\n",
    "#字典的删除\n",
    "#删除字典元素\n",
    "dict1={'name':'runoob','age':7,'class':'first'}\n",
    "del dict1['name']\n",
    "print(dict1)\n",
    "dict1.clear()#清空字典\n",
    "print(dict1)\n",
    "del dict1#删除字典\n",
    "\n",
    "#字典的遍历\n",
    "dict1={'name':'runoob','age':7,'class':'first'}\n",
    "for key in dict1:\n",
    "    print(key,dict1[key])\n",
    "#同一个键不能出现两次，如果出现两次，后一个值会被记住\n",
    "dict1={'name':'runoob','age':7,'name':'小菜鸟'}\n",
    "print(\"dict1['name']:\",dict1['name'])\n",
    "#键必须不可变，所以可以用数字，字符串或元组充当，而用列表就不行\n",
    "#dict1={['name']:'runoob','age':7,'class':'first'}\n",
    "\n",
    "#字典的内建函数和方法\n",
    "len(dict1)#计算字典元素个数，即键的总数\n",
    "#str(dict1)#输出字典可打印的字符串表示\n",
    "type(dict1)#返回输入的变量类型，如果变量是字典就返回字典类型\n",
    "#dict1.clear()#删除字典内所有元素\n",
    "dict1.copy()#返回一个字典的浅复制\n",
    "dict1.items()#以列表返回可遍历的(键，值)元组数组\n",
    "dict1.keys()#返回一个迭代器，可以使用list()来转换为列表\n",
    "dict1.values()#返回一个迭代器，可以使用list()来转换为列表\n",
    "dict1.get('name')#返回指定键的值，如果值不在字典中返回默认值\n",
    "dict1.pop('name')#删除字典给定键key所对应的值，返回值为被删除的值\n",
    "\n",
    "\n",
    "\n",
    "\n"
   ]
  },
  {
   "cell_type": "code",
   "execution_count": 5,
   "metadata": {},
   "outputs": [
    {
     "name": "stdout",
     "output_type": "stream",
     "text": [
      "{1, 2, 3, 4, 5}\n",
      "{'2', '1', '4', '5', '3'}\n",
      "cherry\n",
      "apple\n",
      "banana\n",
      "orange\n",
      "{'s', 'c', 'e', 'd', 'b', 'a'}\n",
      "{'c', 'd', 'b', 'a'}\n",
      "set()\n",
      "{0, 1, 2, 3, 4, 5, 6, 7, 8, 9}\n"
     ]
    },
    {
     "data": {
      "text/plain": [
       "False"
      ]
     },
     "execution_count": 5,
     "metadata": {},
     "output_type": "execute_result"
    }
   ],
   "source": [
    "#集合\n",
    "#集合是一个无序的不重复元素序列,可以使用大括号{}或set()函数创建集合\n",
    "#注意：创建一个空集合必须用set()而不是{},因为{}是用来创建一个空字典\n",
    "#可变集合set和不可变集合frozenset，集合中的元素是不可变的，集合本身是可变的\n",
    "#集合的创建\n",
    "#创建一个空集合\n",
    "set1={'a','b','c','d','e'}\n",
    "#将其他类型转换为集合\n",
    "set2=set()\n",
    "set3=set([1,2,3,4,5])\n",
    "print(set3)\n",
    "#在一个集合中不能有重复的元素，如果有重复的元素，会自动被删除\n",
    "set4={'1','2','3','4','5','5'}#集合是无序的，所以输出的结果可能不一样\n",
    "print(set4)\n",
    "#集合的遍历\n",
    "set4={\"apple\",\"banana\",\"cherry\",\"orange\"}\n",
    "for var in set4:\n",
    "    print(var)\n",
    "\n",
    "#集合的增加和删除\n",
    "set5={'a','b','c','d','e'}\n",
    "set5.add('s')\n",
    "print(set5)\n",
    "set5.discard('s')\n",
    "set5.remove('e')\n",
    "print(set5)\n",
    "set5.clear()\n",
    "print(set5)\n",
    "\n",
    "#集合运算\n",
    "#集合的交集，差集，并集，对称差集\n",
    "tuple=(0,1,2,3,4,5,6,7,8,9)\n",
    "set6=set(tuple)\n",
    "print(set6)\n",
    "set7={1,2,3,4,5}\n",
    "s_iopr=set6&set7#交集,逻辑符\n",
    "s_iopr\n",
    "s_iopr=set6.intersection(set7)#交集，函数方法\n",
    "s_iopr\n",
    "s_intersection=set6|set7#并集，逻辑符\n",
    "s_intersection=set6.intersection(set7)\n",
    "s_intersection\n",
    "s_difference=set6-set7#差集，逻辑符\n",
    "s_difference=set6.difference(set7)#差集，函数方法\n",
    "#含set6不含set7\n",
    "s_difference\n",
    "\n",
    "\n",
    "#集合的内建函数和方法\n",
    "len(set6)#计算集合元素个数\n",
    "set()#创建一个空集合\n",
    "set1=set1.copy()#返回一个集合的浅复制\n",
    "frozenset(set6)#返回一个冻结的集合，冻结后集合不能再添加或删除任何元素\n",
    "\n",
    "#仅适用于可变集合的方法\n",
    "set1={'a','b','c','d','e'}\n",
    "set1.add('s')#为集合添加元素\n",
    "set1.discard('s')#移除指定元素\n",
    "#set1.remove('s')#移除指定元素，如果元素不存在会发生错误\n",
    "#set1.clear()#移除集合中的所有元素\n",
    "set1.pop()#随机移除一个元素\n",
    "set1.update(set7)#给集合添加元素\n",
    "set1.union(set7)#返回两个集合的并集\n",
    "set1.intersection(set7)#返回两个集合的交集\n",
    "set1.difference(set7)#返回两个集合的差集\n",
    "set1.symmetric_difference(set7)#返回两个集合的对称差集\n",
    "set1.intersection_update(set7)#移除两个集合中不重叠的元素\n",
    "set1.difference_update(set7)#移除两个集合中相同的元素\n",
    "set1.symmetric_difference_update(set7)#移除两个集合中重复的元素\n",
    "set1.issubset(set7)#判断集合是否为另一个集合的子集\n",
    "set1.issuperset(set7)#判断集合是否为另一个集合的父集\n",
    "set1.isdisjoint(set7)#判断两个集合是否包含相同的元素，如果没有返回True，否则返回False\n",
    "\n",
    "\n"
   ]
  }
 ],
 "metadata": {
  "kernelspec": {
   "display_name": "Python 3",
   "language": "python",
   "name": "python3"
  },
  "language_info": {
   "codemirror_mode": {
    "name": "ipython",
    "version": 3
   },
   "file_extension": ".py",
   "mimetype": "text/x-python",
   "name": "python",
   "nbconvert_exporter": "python",
   "pygments_lexer": "ipython3",
   "version": "3.12.3"
  }
 },
 "nbformat": 4,
 "nbformat_minor": 2
}
