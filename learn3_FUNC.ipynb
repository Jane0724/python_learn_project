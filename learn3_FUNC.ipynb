{
 "cells": [
  {
   "cell_type": "markdown",
   "metadata": {},
   "source": [
    "函数\n",
    "函数的概述\n",
    "函数的定义：一个程序可以按不同功能划分为不同的代码块，而函数就是能实现某一部分功能的代码块"
   ]
  },
  {
   "cell_type": "code",
   "execution_count": 1,
   "metadata": {},
   "outputs": [],
   "source": [
    "#使用def语句来定义一个函数\n",
    "#依次写出函数名，括号，括号内的参数和冒号\n",
    "#在缩进块内编写函数体，函数的返回值用return语句返回\n",
    "#使用缩进块来标注函数作用范围,而c和c++使用大括号\n",
    "#def functionName(List of parameters):#Function header\n",
    "    #Function body\n",
    "    #return ValueError"
   ]
  },
  {
   "cell_type": "code",
   "execution_count": 2,
   "metadata": {},
   "outputs": [],
   "source": [
    "def max(num1,num2):\n",
    "    if num1>num2:\n",
    "        result =num1\n",
    "    if num1<num2:\n",
    "        result =num2\n",
    "    return result"
   ]
  },
  {
   "cell_type": "code",
   "execution_count": 3,
   "metadata": {},
   "outputs": [
    {
     "name": "stdout",
     "output_type": "stream",
     "text": [
      "蔬菜的价格是 300.0\n"
     ]
    }
   ],
   "source": [
    "#全局变量和局部变量\n",
    "#定义在函数内部的变量拥有一个局部作用域，定义在函数外的拥有全局作用域\n",
    "def foodsprice(per_price,number):\n",
    "    sum_price=per_price*number\n",
    "    return sum_price\n",
    "per_price_1=float(input(\"请输入单价：\"))\n",
    "number_1=float(input(\"请输入数量：\"))\n",
    "sum_price_1=foodsprice(per_price_1,number_1)\n",
    "print(\"蔬菜的价格是\",sum_price_1)\n"
   ]
  },
  {
   "cell_type": "code",
   "execution_count": 4,
   "metadata": {},
   "outputs": [
    {
     "name": "stdout",
     "output_type": "stream",
     "text": [
      "2\n",
      "1\n"
     ]
    }
   ],
   "source": [
    "x=1#x是全局变量\n",
    "def f1():\n",
    "    x=2\n",
    "    print(x)#x是局部变量\n",
    "f1()\n",
    "print(x)#x是局部变量，不能在函数外部调用\n",
    "#一个python表达式可以访问局部变量和全局变量，如果局部变量和全局变量重名，优先访问局部变量"
   ]
  },
  {
   "cell_type": "code",
   "execution_count": 5,
   "metadata": {},
   "outputs": [
    {
     "name": "stdout",
     "output_type": "stream",
     "text": [
      "30\n",
      "30\n",
      "30\n",
      "130\n",
      "70\n",
      "5050\n"
     ]
    }
   ],
   "source": [
    "#函数的参数\n",
    "#位置参数，关键字参数，可变参数。\n",
    "#位置参数\n",
    "#直接传入参数的值，按照位置顺序依次赋给参数\n",
    "#可变参数\n",
    "#如果要让一个函数接受任意个参数，可以使用可变参数，可变参数就是传入的参数个数是可变的，可以是0个，1个，2个等等\n",
    "#可变参数的两种传递方式。1是直接传入参数值，2是先封装成列表list或与元组tuple，再在封装后的列表或元组前加一个*号\n",
    "#关键字参数\n",
    "#关键字参数的两种传递方式：1是直接传入参数值，2是先封装成字典dict，再在封装后的字典前加两个*号\n",
    "#位置参数\n",
    "def sub(a,b):\n",
    "    return a-b\n",
    "print(sub(100,70))#按顺序传入参数值\n",
    "\n",
    "#关键字参数\n",
    "def sub(num_1,num_2):\n",
    "    return(num_1-num_2)\n",
    "print(sub(num_2=70,num_1=100))#按照关键字传入参数值\n",
    "\n",
    "#默认值参数\n",
    "#定义函数的时候，可以给参数一个默认值，调用函数时，如果没有传入参数，则使用默认值\n",
    "def sub(num_1=100,num_2=70):\n",
    "    return(num_1-num_2)\n",
    "print(sub())\n",
    "print(sub(200))\n",
    "print(sub(num_2=30))\n",
    "\n",
    "#可变参数\n",
    "def sub(*num):\n",
    "    sum=0\n",
    "    for i in num:\n",
    "        sum+=i\n",
    "    return sum\n",
    "print(sub(*range(1, 101)))\n",
    "\n",
    "def sub(*sum):\n",
    "    sum=0\n"
   ]
  },
  {
   "cell_type": "code",
   "execution_count": 6,
   "metadata": {},
   "outputs": [
    {
     "name": "stdout",
     "output_type": "stream",
     "text": [
      "第三个参数是： 3\n",
      "可变参数的长度为： 9\n",
      "第三个参数是： 2\n",
      "可变参数的长度为： 11\n"
     ]
    }
   ],
   "source": [
    "def val_par(*param):\n",
    "    print(\"第三个参数是：\",param[2])\n",
    "    print(\"可变参数的长度为：\",len(param))\n",
    "val_par(1,2,3,4,5,6,7,8,9)\n",
    "val_par(\"刷卡还是看打包\",1,2,3,4,5,6,7,8,9,\"pthon\")\n"
   ]
  },
  {
   "cell_type": "code",
   "execution_count": 7,
   "metadata": {},
   "outputs": [
    {
     "name": "stdout",
     "output_type": "stream",
     "text": [
      "30\n"
     ]
    },
    {
     "data": {
      "text/plain": [
       "(1, 2, 3, 4, 5, 'python')"
      ]
     },
     "execution_count": 7,
     "metadata": {},
     "output_type": "execute_result"
    }
   ],
   "source": [
    "#函数返回值\n",
    "#函数返回值是函数执行完后返回的结果\n",
    "def sub(num_1,num_2):\n",
    "    return(num_1-num_2)\n",
    "result=sub(100,70)\n",
    "print(result)\n",
    "def back_test():\n",
    "    return[1,2,3,4,5,\"python\"]\n",
    "back_test()\n",
    "\n",
    "def back_test():\n",
    "    return 1,2,3,4,5,\"python\"\n",
    "back_test()\n"
   ]
  },
  {
   "cell_type": "code",
   "execution_count": 8,
   "metadata": {},
   "outputs": [
    {
     "name": "stdout",
     "output_type": "stream",
     "text": [
      "正在调用function_1()...\n",
      "正在调用function_2()...\n"
     ]
    }
   ],
   "source": [
    "#函数的调用\n",
    "#定义函数后，可以通过函数名调用函数，分为内置函数和自定义函数，内置函数是python自带的函数，自定义函数是自己定义的函数\n",
    "#函数的调用可以有返回值，也可以没有返回值\n",
    "#函数的调用可以有参数，也可以没有参数\n",
    "#函数名其实是指向函数的变量，函数名可以赋值给其他变量，相当于给函数起了一个别名\n",
    "#函数嵌套调用\n",
    "def function_1():\n",
    "    print(\"正在调用function_1()...\")\n",
    "    def function_2():\n",
    "        print(\"正在调用function_2()...\")\n",
    "    function_2()\n",
    "function_1()\n",
    "#function_2()#function_2()是局部变量，不能在函数外部调用\n",
    "\n"
   ]
  },
  {
   "cell_type": "code",
   "execution_count": 9,
   "metadata": {},
   "outputs": [
    {
     "name": "stdout",
     "output_type": "stream",
     "text": [
      "120\n",
      "3\n",
      "[(4, 'four'), (1, 'one'), (3, 'three'), (2, 'two')]\n",
      "[2, 4, 6, 8, 10]\n",
      "[2, 4, 6, 8, 10, 12, 14, 16, 18, 20]\n"
     ]
    }
   ],
   "source": [
    "#递归调用\n",
    "def fac(num):\n",
    "    if num<=1:\n",
    "        return 1\n",
    "    return num*fac(num-1)\n",
    "print(fac(5))\n",
    "\n",
    "#匿名函数\n",
    "#匿名函数是没有名字的函数，匿名函数的定义使用lambda关键字\n",
    "#lambda函数的语法只包含一个语句，如下：\n",
    "#lambda [arg1,arg2,arg3,...]:expression\n",
    "#lambda函数可以接受任意个参数，但只能有一个表达式\n",
    "#表达式不能包含循环、return、pass等关键字，但可以包含if语句\n",
    "add = lambda x,y:x+y\n",
    "print(add(1,2))\n",
    "# 使用 lambda 函数对列表中的元组按第二个元素排序\n",
    "pairs = [(1, 'one'), (2, 'two'), (3, 'three'), (4, 'four')]\n",
    "pairs.sort(key=lambda pair: pair[1])#按照第二个元素排序\n",
    "print(pairs)\n",
    "# 输出：[(4, 'four'), (1, 'one'), (3, 'three'), (2, 'two')]\n",
    "number=range(1,11)\n",
    "number_2=list(filter(lambda x:x %2==0,number))\n",
    "print(number_2)\n",
    "#map()函数\n",
    "#map()函数的语法如下：\n",
    "#map(function,sequence)\n",
    "#map()函数的作用是将function作用于sequence的每个元素，返回一个列表\n",
    "number=range(1,11)\n",
    "number_2=list(map(lambda x:x*2,number))\n",
    "print(number_2)"
   ]
  },
  {
   "cell_type": "code",
   "execution_count": 10,
   "metadata": {},
   "outputs": [
    {
     "name": "stdout",
     "output_type": "stream",
     "text": [
      "88\n"
     ]
    }
   ],
   "source": [
    "#斐波那契数列前十项求和 \n",
    "def fibonacci_sum(n):\n",
    "    # 初始化前两项\n",
    "    fib_sequence = [0, 1]#斐波那契数列的前两项\n",
    "    total_sum = fib_sequence[0] + fib_sequence[1]#斐波那契数列的前两项之和\n",
    "    \n",
    "    # 计算从第三项到第n项的斐波那契数并求和\n",
    "    for i in range(2, n):#从第三项开始计算\n",
    "        next_fib = fib_sequence[-1] + fib_sequence[-2]#斐波那契数列的第n项等于前两项之和\n",
    "        fib_sequence.append(next_fib)#将新的斐波那契数添加到列表中\n",
    "        total_sum += next_fib#将新的斐波那契数添加到总和中\n",
    "    \n",
    "    return total_sum\n",
    "sum_of_fib_10 = fibonacci_sum(10)#计算前10项斐波那契数的和\n",
    "print(sum_of_fib_10)\n",
    "\n"
   ]
  },
  {
   "cell_type": "code",
   "execution_count": 11,
   "metadata": {},
   "outputs": [
    {
     "name": "stdout",
     "output_type": "stream",
     "text": [
      "88\n",
      "Requirement already satisfied: matplotlib in d:\\python\\lib\\site-packages (3.9.3)\n",
      "Requirement already satisfied: contourpy>=1.0.1 in d:\\python\\lib\\site-packages (from matplotlib) (1.3.1)\n",
      "Requirement already satisfied: cycler>=0.10 in d:\\python\\lib\\site-packages (from matplotlib) (0.12.1)\n",
      "Requirement already satisfied: fonttools>=4.22.0 in d:\\python\\lib\\site-packages (from matplotlib) (4.55.3)\n",
      "Requirement already satisfied: kiwisolver>=1.3.1 in d:\\python\\lib\\site-packages (from matplotlib) (1.4.7)\n",
      "Requirement already satisfied: numpy>=1.23 in d:\\python\\lib\\site-packages (from matplotlib) (1.26.4)\n",
      "Requirement already satisfied: packaging>=20.0 in d:\\python\\lib\\site-packages (from matplotlib) (24.0)\n",
      "Requirement already satisfied: pillow>=8 in d:\\python\\lib\\site-packages (from matplotlib) (11.0.0)\n",
      "Requirement already satisfied: pyparsing>=2.3.1 in d:\\python\\lib\\site-packages (from matplotlib) (3.2.0)\n",
      "Requirement already satisfied: python-dateutil>=2.7 in c:\\users\\sky\\appdata\\roaming\\python\\python312\\site-packages (from matplotlib) (2.9.0.post0)\n",
      "Requirement already satisfied: six>=1.5 in d:\\python\\lib\\site-packages (from python-dateutil>=2.7->matplotlib) (1.16.0)\n",
      "Note: you may need to restart the kernel to use updated packages.\n"
     ]
    },
    {
     "name": "stderr",
     "output_type": "stream",
     "text": [
      "\n",
      "[notice] A new release of pip is available: 24.0 -> 24.3.1\n",
      "[notice] To update, run: python.exe -m pip install --upgrade pip\n"
     ]
    }
   ],
   "source": [
    "#模块导入方法\n",
    "import math\n",
    "#引用模块内的函数，模块名.函数名\n",
    "#导入斐波那契数列模块\n",
    "# from fibolacci import fibonacci\n",
    "# 直接使用已经定义的fibonacci_sum函数\n",
    "sum_of_fib_10 = fibonacci_sum(10)\n",
    "print(sum_of_fib_10)\n",
    "import numpy as np\n",
    "import pandas as pd\n",
    "%pip install matplotlib\n",
    "import matplotlib.pyplot as plt\n"
   ]
  }
 ],
 "metadata": {
  "kernelspec": {
   "display_name": "Python 3",
   "language": "python",
   "name": "python3"
  },
  "language_info": {
   "codemirror_mode": {
    "name": "ipython",
    "version": 3
   },
   "file_extension": ".py",
   "mimetype": "text/x-python",
   "name": "python",
   "nbconvert_exporter": "python",
   "pygments_lexer": "ipython3",
   "version": "3.12.3"
  }
 },
 "nbformat": 4,
 "nbformat_minor": 2
}
