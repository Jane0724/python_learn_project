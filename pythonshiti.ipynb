{
 "cells": [
  {
   "cell_type": "code",
   "execution_count": 10,
   "metadata": {},
   "outputs": [
    {
     "name": "stdout",
     "output_type": "stream",
     "text": [
      "2002,2009,2016,2023,2037,2044,2051,2058,2072,2079,2086,2093,2107,2114,2121,2128,2142,2149,2156,2163,2177,2184,2191,2198,2212,2219,2226,2233,2247,2254,2261,2268,2282,2289,2296,2303,2317,2324,2331,2338,2352,2359,2366,2373,2387,2394,2401,2408,2422,2429,2436,2443,2457,2464,2471,2478,2492,2499,2506,2513,2527,2534,2541,2548,2562,2569,2576,2583,2597,2604,2611,2618,2632,2639,2646,2653,2667,2674,2681,2688,2702,2709,2716,2723,2737,2744,2751,2758,2772,2779,2786,2793,2807,2814,2821,2828,2842,2849,2856,2863,2877,2884,2891,2898,2912,2919,2926,2933,2947,2954,2961,2968,2982,2989,2996,3003,3017,3024,3031,3038,3052,3059,3066,3073,3087,3094,3101,3108,3122,3129,3136,3143,3157,3164,3171,3178,3192,3199\n",
      "第 10 次落地时经过的总距离: 299.609375 米\n",
      "第 10 次反弹的高度: 0.09765625 米\n",
      "Tesla Model S 启动了。\n",
      "Tesla Model S 正在加速。\n",
      "Tesla Model S 正在向左拐弯。\n",
      "Tesla Model S 正在减速。\n",
      "Tesla Model S 已经停车。\n"
     ]
    }
   ],
   "source": [
    "# 2. 查找符合条件的整数并打印\n",
    "def find_numbers():# 定义函数\n",
    "    numbers = [str(i) for i in range(2000, 3201) if i % 7 == 0 and i % 5 != 0]\n",
    "    print(\",\".join(numbers))\n",
    "\n",
    "# 3. 计算小球第 10 次落地经过的总路程和高度\n",
    "def ball_bounce():# 定义函数\n",
    "    height = 100  # 初始高度\n",
    "    total_distance = height  # 初始落地距离\n",
    "    for i in range(1, 10):  # 计算 10 次反弹\n",
    "        height /= 2  # 每次反弹回原高度一半\n",
    "        total_distance += 2 * height  # 下落 + 反弹距离\n",
    "\n",
    "    print(f\"第 10 次落地时经过的总距离: {total_distance} 米\")\n",
    "    print(f\"第 10 次反弹的高度: {height / 2} 米\")  # 第 10 次反弹后继续上升一半高度\n",
    "\n",
    "# 4. 汽车类定义\n",
    "class Car:  \n",
    "    def __init__(self, color, model, manufacturer, year):\n",
    "        self.color = color\n",
    "        self.model = model\n",
    "        self.manufacturer = manufacturer\n",
    "        self.year = year\n",
    "\n",
    "    def start(self):\n",
    "        print(f\"{self.manufacturer} {self.model} 启动了。\")\n",
    "\n",
    "    def accelerate(self):\n",
    "        print(f\"{self.manufacturer} {self.model} 正在加速。\")\n",
    "\n",
    "    def decelerate(self):\n",
    "        print(f\"{self.manufacturer} {self.model} 正在减速。\")\n",
    "\n",
    "    def turn(self, direction):\n",
    "        print(f\"{self.manufacturer} {self.model} 正在向{direction}拐弯。\")\n",
    "\n",
    "    def stop(self):\n",
    "        print(f\"{self.manufacturer} {self.model} 已经停车。\")\n",
    "\n",
    "# 示例使用\n",
    "if __name__ == \"__main__\":\n",
    "    # 执行第 2 部分\n",
    "    find_numbers()\n",
    "\n",
    "    # 执行第 3 部分\n",
    "    ball_bounce()\n",
    "\n",
    "    # 创建汽车实例并调用方法\n",
    "    my_car = Car(\"红色\", \"Model S\", \"Tesla\", 2022)\n",
    "    my_car.start()\n",
    "    my_car.accelerate()\n",
    "    my_car.turn(\"左\")\n",
    "    my_car.decelerate()\n",
    "    my_car.stop()\n"
   ]
  },
  {
   "cell_type": "code",
   "execution_count": 36,
   "metadata": {},
   "outputs": [
    {
     "name": "stdout",
     "output_type": "stream",
     "text": [
      "2002,2009,2016,2023,2037,2044,2051,2058,2072,2079,2086,2093,2107,2114,2121,2128,2142,2149,2156,2163,2177,2184,2191,2198,2212,2219,2226,2233,2247,2254,2261,2268,2282,2289,2296,2303,2317,2324,2331,2338,2352,2359,2366,2373,2387,2394,2401,2408,2422,2429,2436,2443,2457,2464,2471,2478,2492,2499,2506,2513,2527,2534,2541,2548,2562,2569,2576,2583,2597,2604,2611,2618,2632,2639,2646,2653,2667,2674,2681,2688,2702,2709,2716,2723,2737,2744,2751,2758,2772,2779,2786,2793,2807,2814,2821,2828,2842,2849,2856,2863,2877,2884,2891,2898,2912,2919,2926,2933,2947,2954,2961,2968,2982,2989,2996,3003,3017,3024,3031,3038,3052,3059,3066,3073,3087,3094,3101,3108,3122,3129,3136,3143,3157,3164,3171,3178,3192,3199\n"
     ]
    }
   ],
   "source": [
    "def find_numbers():\n",
    "    numbers = [str(i) for i in range(2000, 3201) if i % 7 == 0 and i % 5 != 0]\n",
    "    print(','.join(numbers))\n",
    "if __name__ == '__main__':# 判断是否为主程序\n",
    "    find_numbers()"
   ]
  },
  {
   "cell_type": "code",
   "execution_count": 39,
   "metadata": {},
   "outputs": [
    {
     "name": "stdout",
     "output_type": "stream",
     "text": [
      "[1, 1, 2, 3, 5, 8, 13, 21, 34, 55]\n",
      "143\n"
     ]
    }
   ],
   "source": [
    "#输出斐波那契数列\n",
    "def fibonacci(n):\n",
    "    if n <= 0:\n",
    "        return []\n",
    "    if n == 1:\n",
    "        return [1]\n",
    "    if n == 2:\n",
    "        return [1, 1]\n",
    "    fib = [1, 1]# 初始化斐波那契数列\n",
    "    for i in range(2, n):\n",
    "        fib.append(fib[-1] + fib[-2])# 计算下一个数并添加到列表\n",
    "    return fib\n",
    "if __name__ == '__main__':\n",
    "    print(fibonacci(10))\n",
    "#对于斐波那契数列前十个数求和\n",
    "def fibonacci(n):# 定义函数\n",
    "    if n <= 0:# 判断是否小于等于0\n",
    "        return 0\n",
    "    if n == 1: \n",
    "        return 1\n",
    "    if n == 2:\n",
    "        return 2\n",
    "    fib = [1, 1]\n",
    "    for i in range(2, n):\n",
    "        fib.append(fib[-1] + fib[-2])\n",
    "    return sum(fib)# 求和\n",
    "if __name__ == '__main__':\n",
    "    print(fibonacci(10))\n",
    "\n",
    "\n"
   ]
  },
  {
   "cell_type": "code",
   "execution_count": 44,
   "metadata": {},
   "outputs": [
    {
     "name": "stdout",
     "output_type": "stream",
     "text": [
      "[1, 1, 2, 3, 5, 8, 13, 21, 34, 55, 89, 144, 233, 377, 610, 987, 1597, 2584, 4181, 6765]\n"
     ]
    }
   ],
   "source": [
    "def fibonacci(n):\n",
    "    if n<=0:\n",
    "        return []\n",
    "    if n==1:\n",
    "        return [1]\n",
    "    if n==2:\n",
    "        return [1,1]\n",
    "    fib=[1,1]\n",
    "    for i in range(2,n):\n",
    "        fib.append(fib[-1]+fib[-2])\n",
    "    return (fib)\n",
    "if __name__=='__main__':\n",
    "    print(fibonacci(20))"
   ]
  },
  {
   "cell_type": "code",
   "execution_count": 45,
   "metadata": {},
   "outputs": [
    {
     "name": "stdout",
     "output_type": "stream",
     "text": [
      "当前时间: 12:30:45\n",
      "加 2 小时 45 分 30 秒后的时间: 15:16:15\n",
      "减 1 小时 15 分后的时间: 14:01:15\n"
     ]
    }
   ],
   "source": [
    "class Time:# 定义时间类\n",
    "    def __init__(self, hours, minutes, seconds):\n",
    "        \"\"\"初始化时间\"\"\"\n",
    "        self.hours = hours\n",
    "        self.minutes = minutes\n",
    "        self.seconds = seconds\n",
    "    \n",
    "    def add_time(self, hours, minutes, seconds):\n",
    "        \"\"\"将指定的时间加到当前时间\"\"\"\n",
    "        self.seconds += seconds\n",
    "        self.minutes += minutes + self.seconds // 60  # 进位\n",
    "        self.hours += hours + self.minutes // 60  # 进位\n",
    "        \n",
    "        self.seconds %= 60\n",
    "        self.minutes %= 60\n",
    "        self.hours %= 24  # 假设时间是24小时制\n",
    "    \n",
    "    def subtract_time(self, hours, minutes, seconds):\n",
    "        \"\"\"从当前时间减去指定的时间\"\"\"\n",
    "        total_seconds = self.to_seconds() - (hours * 3600 + minutes * 60 + seconds)\n",
    "        \n",
    "        if total_seconds < 0:\n",
    "            return \"减去的时间超过当前时间\"\n",
    "        \n",
    "        self.hours, self.minutes, self.seconds = self.from_seconds(total_seconds)\n",
    "    \n",
    "    def get_time(self):\n",
    "        \"\"\"返回当前时间\"\"\"\n",
    "        return f\"{self.hours:02}:{self.minutes:02}:{self.seconds:02}\"\n",
    "    \n",
    "    def to_seconds(self):\n",
    "        \"\"\"将当前时间转换为总秒数\"\"\"\n",
    "        return self.hours * 3600 + self.minutes * 60 + self.seconds\n",
    "    \n",
    "    def from_seconds(self, total_seconds):\n",
    "        \"\"\"将秒数转换为时:分:秒格式\"\"\"\n",
    "        hours = total_seconds // 3600\n",
    "        total_seconds %= 3600\n",
    "        minutes = total_seconds // 60\n",
    "        seconds = total_seconds % 60\n",
    "        return hours, minutes, seconds\n",
    "\n",
    "# 测试代码\n",
    "if __name__ == \"__main__\":\n",
    "    # 创建一个时间实例\n",
    "    time = Time(12, 30, 45)\n",
    "    \n",
    "    # 显示当前时间\n",
    "    print(\"当前时间:\", time.get_time())\n",
    "    \n",
    "    # 加时间\n",
    "    time.add_time(2, 45, 30)\n",
    "    print(\"加 2 小时 45 分 30 秒后的时间:\", time.get_time())\n",
    "    \n",
    "    # 减时间\n",
    "    time.subtract_time(1, 15, 0)\n",
    "    print(\"减 1 小时 15 分后的时间:\", time.get_time())\n"
   ]
  },
  {
   "cell_type": "code",
   "execution_count": 51,
   "metadata": {},
   "outputs": [
    {
     "name": "stdout",
     "output_type": "stream",
     "text": [
      "圆的面积是78.54\n",
      "圆的周长为31.42\n"
     ]
    }
   ],
   "source": [
    "import math # 导入数学模块\n",
    "\n",
    "class cacle():\n",
    "    def __init__(self, r):\n",
    "        self.r = r\n",
    "\n",
    "    def area(self):\n",
    "        area = math.pi * self.r ** 2\n",
    "        return area\n",
    "\n",
    "    def long(self):\n",
    "        long = 2 * math.pi * self.r\n",
    "        return long\n",
    "\n",
    "if __name__ == '__main__':\n",
    "    c = cacle(5)\n",
    "    print(f\"圆的面积是{c.area():.2f}\")\n",
    "    print(f\"圆的周长为{c.long():.2f}\")# 保留两位小数\n"
   ]
  }
 ],
 "metadata": {
  "kernelspec": {
   "display_name": "Python 3",
   "language": "python",
   "name": "python3"
  },
  "language_info": {
   "codemirror_mode": {
    "name": "ipython",
    "version": 3
   },
   "file_extension": ".py",
   "mimetype": "text/x-python",
   "name": "python",
   "nbconvert_exporter": "python",
   "pygments_lexer": "ipython3",
   "version": "3.12.3"
  }
 },
 "nbformat": 4,
 "nbformat_minor": 2
}
